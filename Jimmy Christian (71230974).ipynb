{
 "cells": [
  {
   "cell_type": "code",
   "execution_count": 7,
   "id": "e096741f",
   "metadata": {},
   "outputs": [
    {
     "name": "stdout",
     "output_type": "stream",
     "text": [
      "True\n"
     ]
    }
   ],
   "source": [
    "def cek_anggota (tuple):\n",
    "    for i in range (len(tuple)-1):\n",
    "        if tuple[i] == tuple[i+1]:\n",
    "            hasil = True\n",
    "        else: \n",
    "            hasil = False\n",
    "            break\n",
    "    return hasil\n",
    "tuples = 90, 90, 90, 90\n",
    "print(cek_anggota(tuples))"
   ]
  },
  {
   "cell_type": "code",
   "execution_count": 2,
   "id": "20493d17",
   "metadata": {},
   "outputs": [
    {
     "name": "stdout",
     "output_type": "stream",
     "text": [
      "Data:  ('Jimmy Chrsitian', '71230974', 'Jurangombo Utara, Magelang') \n",
      "\n",
      "NIM    :  71230974\n",
      "NAMA   :  Jimmy Chrsitian\n",
      "ALAMAT :  Jurangombo Utara, Magelang \n",
      "\n",
      "NIM:  ['7', '1', '2', '3', '0', '9', '7', '4'] \n",
      "\n",
      "NAMA DEPAN:  ['i', 'm', 'm', 'y'] \n",
      "\n",
      "NAMA TERBALIK:  ['Chrsitian', 'Jimmy']\n"
     ]
    }
   ],
   "source": [
    "tuples = \"Jimmy Chrsitian\", \"71230974\", \"Jurangombo Utara, Magelang\"\n",
    "\n",
    "print(\"Data: \", tuples, \"\\n\")\n",
    "\n",
    "print(\"NIM    : \", tuples[1])\n",
    "print(\"NAMA   : \", tuples[0])\n",
    "print(\"ALAMAT : \", tuples[2],\"\\n\")\n",
    "\n",
    "print(\"NIM: \", list(tuples[1]),\"\\n\")\n",
    "print(\"NAMA DEPAN: \", (list((((list(tuples))[0]).split())[0]))[1:],\"\\n\")\n",
    "print(\"NAMA TERBALIK: \", (((list(tuples))[0]).split())[::-1])"
   ]
  },
  {
   "cell_type": "code",
   "execution_count": null,
   "id": "5e616a4a",
   "metadata": {},
   "outputs": [],
   "source": [
    "file = input(\"Enter a file name: \")\n",
    "handle = open(file).readlines()\n",
    "jam = []\n",
    "jam2 = {}\n",
    "for i in handle:\n",
    "    if i.startswith(\"From\"):\n",
    "        split = i.split(\" \")\n",
    "        if len(split) > 2:\n",
    "            jam.append(split[-2].split(\":\")[0])\n",
    "jam.sort()\n",
    "for i in jam:\n",
    "    if i not in jam2:\n",
    "        jam2[i] = 1\n",
    "    else:\n",
    "        jam2[i] += 1\n",
    "for key, value in jam2.items():\n",
    "    print (key, end = \" \")\n",
    "    print (value)"
   ]
  }
 ],
 "metadata": {
  "kernelspec": {
   "display_name": "Python 3 (ipykernel)",
   "language": "python",
   "name": "python3"
  },
  "language_info": {
   "codemirror_mode": {
    "name": "ipython",
    "version": 3
   },
   "file_extension": ".py",
   "mimetype": "text/x-python",
   "name": "python",
   "nbconvert_exporter": "python",
   "pygments_lexer": "ipython3",
   "version": "3.11.5"
  }
 },
 "nbformat": 4,
 "nbformat_minor": 5
}
